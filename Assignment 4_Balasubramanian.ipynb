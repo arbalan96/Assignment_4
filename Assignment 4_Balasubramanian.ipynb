{
 "cells": [
  {
   "cell_type": "markdown",
   "metadata": {},
   "source": [
    "Assignment 4\n",
    "\n",
    "Student : Balasubramanian A.R\n",
    "    \n",
    "Batch : M.Sc Computer science, second year"
   ]
  },
  {
   "cell_type": "markdown",
   "metadata": {},
   "source": [
    "## Recommendation system"
   ]
  },
  {
   "cell_type": "code",
   "execution_count": 1,
   "metadata": {},
   "outputs": [],
   "source": [
    "import pandas as pd\n",
    "import numpy as np\n",
    "\n",
    "#Loading the data\n",
    "df = pd.read_csv(\"ratings.csv\", delimiter = \",\") #Ratings data\n",
    "moviedf = pd.read_csv(\"movies.csv\",delimiter = \",\") #Movies corresponding to movieids\n",
    "\n",
    "users = set(df['userId']) #Set of users\n",
    "movies = set(df['movieId']) #Set of movies"
   ]
  },
  {
   "cell_type": "code",
   "execution_count": 2,
   "metadata": {},
   "outputs": [],
   "source": [
    "#Computing euclidean distance\n",
    "def euclidean_dist(i,j):\n",
    "    \n",
    "    Xi = df.loc[df['userId'] == i] #All rows having userId i\n",
    "    Xj = df.loc[df['userId'] == j] #All rows having userId j\n",
    "    comm = pd.merge(Xi,Xj,on=['movieId']) #All common movies between i and j\n",
    "    \n",
    "    if(len(comm.index) == 0):\n",
    "        return 0\n",
    "    \n",
    "    #Compute inverse of distance\n",
    "    dist = sum(pow(comm['rating_y'] - comm['rating_x'],2))\n",
    "    inv_dist = 1/(1+dist)\n",
    "    return inv_dist"
   ]
  },
  {
   "cell_type": "code",
   "execution_count": 3,
   "metadata": {},
   "outputs": [],
   "source": [
    "#Computing Pearson score\n",
    "def pearson_dist(i,j):\n",
    "    \n",
    "    Xi = df.loc[df['userId'] == i]\n",
    "    Xj = df.loc[df['userId'] == j]\n",
    "    comm = pd.merge(Xi,Xj,on=['movieId'])\n",
    "    \n",
    "    n = len(comm.index)\n",
    "    \n",
    "    if(n == 0):\n",
    "        return 0\n",
    "\n",
    "    #Pearson distance\n",
    "    \n",
    "    sumi = comm['rating_x'].sum()\n",
    "    sumj = comm['rating_y'].sum()\n",
    "    \n",
    "    sqsumi = sum(comm['rating_x'] * comm['rating_x'])\n",
    "    sqsumj = sum(comm['rating_y'] * comm['rating_y'])\n",
    "    \n",
    "    psum = sum(comm['rating_x'] * comm['rating_y'])\n",
    "    \n",
    "    num = psum - (sumi*sumj/n)\n",
    "    den = np.sqrt((sqsumi - pow(sumi,2)/n) * (sqsumj - pow(sumj,2)/n))\n",
    "    if(den == 0):\n",
    "        return 0\n",
    "\n",
    "    return(num/den)\n"
   ]
  },
  {
   "cell_type": "code",
   "execution_count": 4,
   "metadata": {},
   "outputs": [],
   "source": [
    "#Getting the top n Matches for a person\n",
    "def topMatches(person,n):\n",
    "    scores = [(pearson_dist(person,user),user) \n",
    "                 for user in users if users != person] #Computing distance of every user with person\n",
    "    \n",
    "    scores.sort()\n",
    "    scores.reverse()\n",
    "    return scores[:n]"
   ]
  },
  {
   "cell_type": "code",
   "execution_count": 5,
   "metadata": {},
   "outputs": [],
   "source": [
    "#Recommendations of unseen movies for the person along with the expected rating that the person would give \n",
    "#upon watching the movie\n",
    "\n",
    "def recos(person):\n",
    "    \n",
    "    totals = pd.DataFrame(columns = movies,data=[len(movies)*[0]])\n",
    "    sims = pd.DataFrame(columns = movies,data=[len(movies)*[0]])\n",
    "    \n",
    "    for user in users: #Going over all users\n",
    "        if(user == person): \n",
    "            continue\n",
    "            \n",
    "        dist = pearson_dist(person,user) #Using Pearson measure to compute distance\n",
    "        if(dist <= 0): #Go back if distance is negative or zero\n",
    "            continue\n",
    "        \n",
    "        Xi = df.loc[df['userId'] == person] #Set of movies of person\n",
    "        Xj = df.loc[df['userId'] == user] #Set of movies of user\n",
    "        comm = pd.merge(Xi,Xj.reset_index(),on=['movieId']) #Common movies\n",
    "        diff = Xj.drop(comm['index']) #Movies which person has not seen\n",
    "        \n",
    "        #Ratings for movies\n",
    "        temp1 = list(diff['rating'] * dist)\n",
    "        totals[diff['movieId']] = totals[diff['movieId']] + temp1\n",
    "        \n",
    "        temp2 = list(diff['rating'] * 0 + dist)\n",
    "        sims[diff['movieId']] = sims[diff['movieId']] + temp2\n",
    "        \n",
    "    ans = [(totals[movie][0]/sims[movie][0],movie) for movie in movies if(sims[movie][0] != 0)]\n",
    "    ans.sort()\n",
    "    ans.reverse()\n",
    "    return ans[:10] #Returning top 10 movies"
   ]
  },
  {
   "cell_type": "code",
   "execution_count": 6,
   "metadata": {},
   "outputs": [
    {
     "name": "stdout",
     "output_type": "stream",
     "text": [
      "User id 203\n",
      "5.000000000000001 Belle époque (1992)\n",
      "5.000000000000001 Mephisto (1981)\n",
      "5.000000000000001 Bent (1997)\n",
      "5.000000000000001 Assignment, The (1997)\n",
      "5.000000000000001 Lesson Faust (1994)\n",
      "5.0 Won't You Be My Neighbor? (2018)\n",
      "5.0 De platte jungle (1978)\n",
      "5.0 Blue Planet II (2017)\n",
      "5.0 Loving Vincent (2017)\n",
      "5.0 Black Mirror\n"
     ]
    }
   ],
   "source": [
    "x = np.random.choice(list(users)) #Picking a random person\n",
    "print(\"User id\",x)\n",
    "\n",
    "y = recos(x) #Suggestion of movies, but the movies are represented only by movieIds\n",
    "for (rating,movieId) in y:\n",
    "    X = moviedf.loc[moviedf['movieId'] == movieId].get_values() #Getting the row corresponding to movieId\n",
    "    print(rating,X[0][1]) #X[0][1] is the movie name"
   ]
  }
 ],
 "metadata": {
  "kernelspec": {
   "display_name": "Python 3",
   "language": "python",
   "name": "python3"
  },
  "language_info": {
   "codemirror_mode": {
    "name": "ipython",
    "version": 3
   },
   "file_extension": ".py",
   "mimetype": "text/x-python",
   "name": "python",
   "nbconvert_exporter": "python",
   "pygments_lexer": "ipython3",
   "version": "3.7.1"
  }
 },
 "nbformat": 4,
 "nbformat_minor": 2
}
